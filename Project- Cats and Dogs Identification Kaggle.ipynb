{
 "cells": [
  {
   "cell_type": "code",
   "execution_count": 1,
   "metadata": {},
   "outputs": [],
   "source": [
    "import numpy as np\n",
    "import pandas as pd\n",
    "%matplotlib inline\n",
    "import matplotlib as mpl\n",
    "import matplotlib.pyplot as plt\n",
    "import os\n"
   ]
  },
  {
   "cell_type": "code",
   "execution_count": 2,
   "metadata": {},
   "outputs": [],
   "source": [
    "import tensorflow as tf\n",
    "from tensorflow import keras"
   ]
  },
  {
   "cell_type": "code",
   "execution_count": 3,
   "metadata": {},
   "outputs": [],
   "source": [
    "train_dir=r'C:\\Users\\pooja\\Downloads\\STUDY\\CNN_course\\Project\\Dataset\\train'\n",
    "validation_dir=r'C:\\Users\\pooja\\Downloads\\STUDY\\CNN_course\\Project\\Dataset\\validation'\n",
    "test_dir=r'C:\\Users\\pooja\\Downloads\\STUDY\\CNN_course\\Project\\Dataset\\test'"
   ]
  },
  {
   "cell_type": "code",
   "execution_count": 4,
   "metadata": {},
   "outputs": [],
   "source": [
    "from tensorflow.keras.preprocessing.image import ImageDataGenerator"
   ]
  },
  {
   "cell_type": "code",
   "execution_count": 5,
   "metadata": {},
   "outputs": [
    {
     "name": "stdout",
     "output_type": "stream",
     "text": [
      "Found 2000 images belonging to 2 classes.\n",
      "Found 1000 images belonging to 2 classes.\n"
     ]
    }
   ],
   "source": [
    "#Generating batches of tensor image data\n",
    "train_datagen=ImageDataGenerator(rescale=1./255) #RGB values lie between 0 and 1. To rescale them to 0 to 1 we divide them by 255\n",
    "#created so that data is fed in the batches of 20 to the fit model\n",
    "test_datagen=ImageDataGenerator(rescale=1./255)\n",
    "\n",
    "train_generator= train_datagen.flow_from_directory(  #flowfromdirectory as our data is in the form of folders/directories\n",
    "train_dir,\n",
    "target_size=(150,150),  #size of the iimages that we want since it is not standardized\n",
    "batch_size=20,   #ffd will feed in the batches of 20 to our train_generator\n",
    "class_mode='binary') #since binary classification i.e 2 folders cats and dogs \n",
    "#As a result of this function, we will get images in the form of floating point tensors with RGB values between 0 and 1\n",
    "\n",
    "    \n",
    "validation_generator= test_datagen.flow_from_directory(  #flowfromdirectory as our data is in the form of folders/directories\n",
    "validation_dir,\n",
    "target_size=(150,150),\n",
    "batch_size=20,\n",
    "class_mode='binary')\n"
   ]
  },
  {
   "cell_type": "code",
   "execution_count": 6,
   "metadata": {},
   "outputs": [],
   "source": [
    "from tensorflow.keras import layers\n",
    "from tensorflow.keras import models"
   ]
  },
  {
   "cell_type": "code",
   "execution_count": 7,
   "metadata": {},
   "outputs": [],
   "source": [
    "model=models.Sequential()\n",
    "\n",
    "model.add(layers.Conv2D(32,(3,3),activation='relu',input_shape=(150,150,3))) #32 filters of 3*3 window, input is of 150*150 and 3 stands for RGB as it is colorful\n",
    "model.add(layers.MaxPooling2D((2,2))) #Maxpooling layer of 2*2 window to half the size of the input image. output will be of 75*75\n",
    "\n",
    "model.add(layers.Conv2D(64,(3,3),activation='relu',input_shape=(150,150,3))) #double the number of filters\n",
    "model.add(layers.MaxPooling2D((2,2)))\n",
    "\n",
    "model.add(layers.Conv2D(128,(3,3),activation='relu',input_shape=(150,150,3)))\n",
    "model.add(layers.MaxPooling2D((2,2)))\n",
    "\n",
    "model.add(layers.Conv2D(128,(3,3),activation='relu',input_shape=(150,150,3)))\n",
    "model.add(layers.MaxPooling2D((2,2))) \n",
    "\n",
    "model.add(layers.Flatten())\n",
    "\n",
    "model.add(layers.Dense(512,activation='relu'))\n",
    "\n",
    "model.add(layers.Dense(1,activation='sigmoid')) #as it is binary classification"
   ]
  },
  {
   "cell_type": "code",
   "execution_count": 8,
   "metadata": {},
   "outputs": [
    {
     "name": "stdout",
     "output_type": "stream",
     "text": [
      "Model: \"sequential\"\n",
      "_________________________________________________________________\n",
      "Layer (type)                 Output Shape              Param #   \n",
      "=================================================================\n",
      "conv2d (Conv2D)              (None, 148, 148, 32)      896       \n",
      "_________________________________________________________________\n",
      "max_pooling2d (MaxPooling2D) (None, 74, 74, 32)        0         \n",
      "_________________________________________________________________\n",
      "conv2d_1 (Conv2D)            (None, 72, 72, 64)        18496     \n",
      "_________________________________________________________________\n",
      "max_pooling2d_1 (MaxPooling2 (None, 36, 36, 64)        0         \n",
      "_________________________________________________________________\n",
      "conv2d_2 (Conv2D)            (None, 34, 34, 128)       73856     \n",
      "_________________________________________________________________\n",
      "max_pooling2d_2 (MaxPooling2 (None, 17, 17, 128)       0         \n",
      "_________________________________________________________________\n",
      "conv2d_3 (Conv2D)            (None, 15, 15, 128)       147584    \n",
      "_________________________________________________________________\n",
      "max_pooling2d_3 (MaxPooling2 (None, 7, 7, 128)         0         \n",
      "_________________________________________________________________\n",
      "flatten (Flatten)            (None, 6272)              0         \n",
      "_________________________________________________________________\n",
      "dense (Dense)                (None, 512)               3211776   \n",
      "_________________________________________________________________\n",
      "dense_1 (Dense)              (None, 1)                 513       \n",
      "=================================================================\n",
      "Total params: 3,453,121\n",
      "Trainable params: 3,453,121\n",
      "Non-trainable params: 0\n",
      "_________________________________________________________________\n"
     ]
    }
   ],
   "source": [
    "model.summary()"
   ]
  },
  {
   "cell_type": "code",
   "execution_count": 9,
   "metadata": {},
   "outputs": [],
   "source": [
    "from tensorflow.keras import optimizers\n",
    "\n",
    "model.compile(loss='binary_crossentropy',  \n",
    "             omptimizer=optimizers.RMSprop(lr=1e-4), #RMSprop has more advantages compared to SGD while image processing. learning rate of 0.001\n",
    "             metrics=['acc'])"
   ]
  },
  {
   "cell_type": "code",
   "execution_count": 10,
   "metadata": {},
   "outputs": [
    {
     "name": "stdout",
     "output_type": "stream",
     "text": [
      "Epoch 1/20\n",
      "WARNING:tensorflow:From C:\\Users\\pooja\\anaconda3\\lib\\site-packages\\tensorflow_core\\python\\ops\\math_grad.py:1394: where (from tensorflow.python.ops.array_ops) is deprecated and will be removed in a future version.\n",
      "Instructions for updating:\n",
      "Use tf.where in 2.0, which has the same broadcast rule as np.where\n",
      "100/100 [==============================] - 99s 993ms/step - loss: 0.7136 - acc: 0.5110 - val_loss: 0.6905 - val_acc: 0.5330\n",
      "Epoch 2/20\n",
      "100/100 [==============================] - 98s 983ms/step - loss: 0.6888 - acc: 0.5995 - val_loss: 0.6701 - val_acc: 0.5490\n",
      "Epoch 3/20\n",
      "100/100 [==============================] - 100s 998ms/step - loss: 0.6408 - acc: 0.6535 - val_loss: 0.6084 - val_acc: 0.6750\n",
      "Epoch 4/20\n",
      "100/100 [==============================] - 95s 953ms/step - loss: 0.5867 - acc: 0.7020 - val_loss: 0.6353 - val_acc: 0.6710\n",
      "Epoch 5/20\n",
      "100/100 [==============================] - 94s 942ms/step - loss: 0.5484 - acc: 0.7325 - val_loss: 0.5897 - val_acc: 0.6910\n",
      "Epoch 6/20\n",
      "100/100 [==============================] - 95s 952ms/step - loss: 0.4912 - acc: 0.7745 - val_loss: 0.5439 - val_acc: 0.7290\n",
      "Epoch 7/20\n",
      "100/100 [==============================] - 98s 982ms/step - loss: 0.4186 - acc: 0.8055 - val_loss: 0.6195 - val_acc: 0.7020\n",
      "Epoch 8/20\n",
      "100/100 [==============================] - 94s 938ms/step - loss: 0.3753 - acc: 0.8280 - val_loss: 0.6573 - val_acc: 0.7160\n",
      "Epoch 9/20\n",
      "100/100 [==============================] - 96s 964ms/step - loss: 0.2991 - acc: 0.8725 - val_loss: 0.8253 - val_acc: 0.7010\n",
      "Epoch 10/20\n",
      "100/100 [==============================] - 97s 967ms/step - loss: 0.2532 - acc: 0.8950 - val_loss: 0.6794 - val_acc: 0.7370\n",
      "Epoch 11/20\n",
      "100/100 [==============================] - 97s 974ms/step - loss: 0.1907 - acc: 0.9235 - val_loss: 0.8679 - val_acc: 0.7120\n",
      "Epoch 12/20\n",
      "100/100 [==============================] - 98s 984ms/step - loss: 0.1391 - acc: 0.9485 - val_loss: 1.0142 - val_acc: 0.7380\n",
      "Epoch 13/20\n",
      "100/100 [==============================] - 100s 996ms/step - loss: 0.1224 - acc: 0.9530 - val_loss: 1.0871 - val_acc: 0.7270\n",
      "Epoch 14/20\n",
      "100/100 [==============================] - 95s 947ms/step - loss: 0.0973 - acc: 0.9665 - val_loss: 1.8284 - val_acc: 0.6940\n",
      "Epoch 15/20\n",
      "100/100 [==============================] - 93s 933ms/step - loss: 0.0803 - acc: 0.9665 - val_loss: 1.5352 - val_acc: 0.7160\n",
      "Epoch 16/20\n",
      "100/100 [==============================] - 95s 945ms/step - loss: 0.0679 - acc: 0.9765 - val_loss: 1.7653 - val_acc: 0.7250\n",
      "Epoch 17/20\n",
      "100/100 [==============================] - 95s 950ms/step - loss: 0.0979 - acc: 0.9720 - val_loss: 1.6270 - val_acc: 0.7040\n",
      "Epoch 18/20\n",
      "100/100 [==============================] - 103s 1s/step - loss: 0.0766 - acc: 0.9790 - val_loss: 1.9809 - val_acc: 0.7190\n",
      "Epoch 19/20\n",
      "100/100 [==============================] - 97s 965ms/step - loss: 0.0580 - acc: 0.9825 - val_loss: 1.8560 - val_acc: 0.7000\n",
      "Epoch 20/20\n",
      "100/100 [==============================] - 95s 954ms/step - loss: 0.0554 - acc: 0.9840 - val_loss: 1.8009 - val_acc: 0.7150\n"
     ]
    }
   ],
   "source": [
    "history=model.fit_generator( #fit_generator because we have used generator\n",
    "      train_generator, #generates data continuously hence necessary to mention stopping point\n",
    "      steps_per_epoch=100, #stopping point. batches of 20. total 2000 hence all will be covered in 100 steps\n",
    "      epochs=20,\n",
    "      validation_data=validation_generator,\n",
    "      validation_steps=50) #1000/20"
   ]
  },
  {
   "cell_type": "code",
   "execution_count": 11,
   "metadata": {},
   "outputs": [
    {
     "data": {
      "image/png": "[encoded data removed]",
      "text/plain": [
       "<Figure size 576x360 with 1 Axes>"
      ]
     },
     "metadata": {
      "needs_background": "light"
     },
     "output_type": "display_data"
    }
   ],
   "source": [
    "pd.DataFrame(history.history).plot(figsize=(8,5))\n",
    "plt.grid(True)\n",
    "plt.gca().set_ylim(0,1)\n",
    "plt.show()\n",
    "#training accuracy is more and increasing with each epoch. and validation accuracy is less. indicates overfitting\n",
    "#treated by generating more dummy data using data augmentation."
   ]
  },
  {
   "cell_type": "markdown",
   "metadata": {},
   "source": [
    "<b> Validation accuracy of 71%.\n",
    "Large difference between the validation accuracy and training accuracy. Clear case of overfitting.\n",
    "Data preprocessing or adding a dropout layer will help to treat the problem of overfitting. </b>"
   ]
  },
  {
   "cell_type": "code",
   "execution_count": 13,
   "metadata": {},
   "outputs": [
    {
     "name": "stdout",
     "output_type": "stream",
     "text": [
      "Found 2000 images belonging to 2 classes.\n",
      "Found 1000 images belonging to 2 classes.\n"
     ]
    }
   ],
   "source": [
    "#Image Preprocessing\n",
    "train_datagen= ImageDataGenerator(\n",
    "rescale=1./255,\n",
    "rotation_range=40,\n",
    "width_shift_range= 0.2, #range- any random value will be selected. similarly for all.\n",
    "height_shift_range=0.2,\n",
    "shear_range=0.2,\n",
    "zoom_range=0.2,\n",
    "horizontal_flip=True)\n",
    "\n",
    "test_datagen= ImageDataGenerator(rescale=1./255)\n",
    "\n",
    "#Converting image data to tensors\n",
    "train_generator= train_datagen.flow_from_directory(\n",
    "train_dir,\n",
    "target_size=(150,150),\n",
    "batch_size=32,\n",
    "class_mode='binary')\n",
    "\n",
    "validation_generator= test_datagen.flow_from_directory(\n",
    "validation_dir,\n",
    "target_size=(150,150),\n",
    "batch_size=32,\n",
    "class_mode='binary')"
   ]
  },
  {
   "cell_type": "code",
   "execution_count": 14,
   "metadata": {},
   "outputs": [],
   "source": [
    "model= models.Sequential()\n",
    "model.add(layers.Conv2D(32,(3,3),activation='relu', input_shape=(150,150,3)))\n",
    "model.add(layers.MaxPooling2D((2,2)))\n",
    "model.add(layers.Conv2D(64,(3,3),activation='relu'))\n",
    "model.add(layers.MaxPooling2D((2,2)))\n",
    "model.add(layers.Conv2D(128,(3,3),activation='relu'))\n",
    "model.add(layers.MaxPooling2D((2,2)))\n",
    "model.add(layers.Conv2D(128,(3,3),activation='relu'))\n",
    "model.add(layers.MaxPooling2D((2,2)))\n",
    "model.add(layers.Flatten())\n",
    "model.add(layers.Dropout(0.5))  #Deactivates 50% of neuronsin each epoch\n",
    "model.add(layers.Dense(512,activation='relu'))\n",
    "model.add(layers.Dense(1,activation='sigmoid'))\n",
    "\n",
    "model.compile(loss='binary_crossentropy', optimizer=optimizers.RMSprop(lr=1e-4),metrics=['acc']) #binary_crossentropy since there are only 2 classes\n",
    "#acc since its classification, so we will calculate accuracy. "
   ]
  },
  {
   "cell_type": "code",
   "execution_count": 15,
   "metadata": {},
   "outputs": [
    {
     "name": "stdout",
     "output_type": "stream",
     "text": [
      "Epoch 1/100\n",
      "100/100 [==============================] - 146s 1s/step - loss: 0.6924 - acc: 0.5303 - val_loss: 0.6826 - val_acc: 0.5336\n",
      "Epoch 2/100\n",
      "100/100 [==============================] - 147s 1s/step - loss: 0.6805 - acc: 0.5716 - val_loss: 0.6700 - val_acc: 0.5596\n",
      "Epoch 3/100\n",
      "100/100 [==============================] - 141s 1s/step - loss: 0.6707 - acc: 0.5896 - val_loss: 0.6471 - val_acc: 0.6256\n",
      "Epoch 4/100\n",
      "100/100 [==============================] - 148s 1s/step - loss: 0.6572 - acc: 0.6074 - val_loss: 0.6293 - val_acc: 0.6497\n",
      "Epoch 5/100\n",
      "100/100 [==============================] - 145s 1s/step - loss: 0.6364 - acc: 0.6348 - val_loss: 0.6499 - val_acc: 0.6053\n",
      "Epoch 6/100\n",
      "100/100 [==============================] - 148s 1s/step - loss: 0.6225 - acc: 0.6454 - val_loss: 0.6533 - val_acc: 0.6174\n",
      "Epoch 7/100\n",
      "100/100 [==============================] - 147s 1s/step - loss: 0.6132 - acc: 0.6705 - val_loss: 0.5962 - val_acc: 0.6707\n",
      "Epoch 8/100\n",
      "100/100 [==============================] - 148s 1s/step - loss: 0.6075 - acc: 0.6717 - val_loss: 0.5604 - val_acc: 0.7024\n",
      "Epoch 9/100\n",
      "100/100 [==============================] - 149s 1s/step - loss: 0.5910 - acc: 0.6712 - val_loss: 0.5447 - val_acc: 0.7202\n",
      "Epoch 10/100\n",
      "100/100 [==============================] - 146s 1s/step - loss: 0.5908 - acc: 0.6840 - val_loss: 0.5434 - val_acc: 0.7157\n",
      "Epoch 11/100\n",
      "100/100 [==============================] - 137s 1s/step - loss: 0.5779 - acc: 0.6995 - val_loss: 0.5534 - val_acc: 0.7119\n",
      "Epoch 12/100\n",
      "100/100 [==============================] - 159s 2s/step - loss: 0.5662 - acc: 0.7051 - val_loss: 0.5682 - val_acc: 0.6707\n",
      "Epoch 13/100\n",
      "100/100 [==============================] - 158s 2s/step - loss: 0.5686 - acc: 0.7023 - val_loss: 0.5570 - val_acc: 0.7024\n",
      "Epoch 14/100\n",
      "100/100 [==============================] - 159s 2s/step - loss: 0.5620 - acc: 0.7078 - val_loss: 0.5264 - val_acc: 0.7341\n",
      "Epoch 15/100\n",
      "100/100 [==============================] - 160s 2s/step - loss: 0.5577 - acc: 0.7133 - val_loss: 0.5543 - val_acc: 0.7030\n",
      "Epoch 16/100\n",
      "100/100 [==============================] - 159s 2s/step - loss: 0.5380 - acc: 0.7339 - val_loss: 0.5352 - val_acc: 0.7214\n",
      "Epoch 17/100\n",
      "100/100 [==============================] - 158s 2s/step - loss: 0.5419 - acc: 0.7277 - val_loss: 0.5630 - val_acc: 0.7195\n",
      "Epoch 18/100\n",
      "100/100 [==============================] - 1689s 17s/step - loss: 0.5383 - acc: 0.7327 - val_loss: 0.4884 - val_acc: 0.7633\n",
      "Epoch 19/100\n",
      "100/100 [==============================] - 93s 931ms/step - loss: 0.5410 - acc: 0.7251 - val_loss: 0.5094 - val_acc: 0.7557\n",
      "Epoch 20/100\n",
      "100/100 [==============================] - 94s 935ms/step - loss: 0.5300 - acc: 0.7449 - val_loss: 0.4786 - val_acc: 0.7532\n",
      "Epoch 21/100\n",
      "100/100 [==============================] - 94s 942ms/step - loss: 0.5288 - acc: 0.7279 - val_loss: 0.5653 - val_acc: 0.6942\n",
      "Epoch 22/100\n",
      "100/100 [==============================] - 90s 903ms/step - loss: 0.5196 - acc: 0.7459 - val_loss: 0.5038 - val_acc: 0.7456\n",
      "Epoch 23/100\n",
      "100/100 [==============================] - 91s 907ms/step - loss: 0.5059 - acc: 0.7541 - val_loss: 0.5071 - val_acc: 0.7456\n",
      "Epoch 24/100\n",
      "100/100 [==============================] - 92s 918ms/step - loss: 0.5120 - acc: 0.7465 - val_loss: 0.4691 - val_acc: 0.7709\n",
      "Epoch 25/100\n",
      "100/100 [==============================] - 928s 9s/step - loss: 0.5074 - acc: 0.7500 - val_loss: 0.4558 - val_acc: 0.7868\n",
      "Epoch 26/100\n",
      "100/100 [==============================] - 90s 903ms/step - loss: 0.4994 - acc: 0.7535 - val_loss: 0.5409 - val_acc: 0.7303\n",
      "Epoch 27/100\n",
      "100/100 [==============================] - 89s 889ms/step - loss: 0.4985 - acc: 0.7607 - val_loss: 0.4632 - val_acc: 0.7786\n",
      "Epoch 28/100\n",
      "100/100 [==============================] - 90s 903ms/step - loss: 0.4947 - acc: 0.7683 - val_loss: 0.4658 - val_acc: 0.7824\n",
      "Epoch 29/100\n",
      "100/100 [==============================] - 94s 941ms/step - loss: 0.4892 - acc: 0.7604 - val_loss: 0.4686 - val_acc: 0.7798\n",
      "Epoch 30/100\n",
      "100/100 [==============================] - 104s 1s/step - loss: 0.4936 - acc: 0.7579 - val_loss: 0.4863 - val_acc: 0.7754\n",
      "Epoch 31/100\n",
      "100/100 [==============================] - 106s 1s/step - loss: 0.4876 - acc: 0.7652 - val_loss: 0.4955 - val_acc: 0.7513\n",
      "Epoch 32/100\n",
      "100/100 [==============================] - 97s 971ms/step - loss: 0.4786 - acc: 0.7660 - val_loss: 0.4660 - val_acc: 0.7735\n",
      "Epoch 33/100\n",
      "100/100 [==============================] - 98s 983ms/step - loss: 0.4827 - acc: 0.7635 - val_loss: 0.4449 - val_acc: 0.7811\n",
      "Epoch 34/100\n",
      "100/100 [==============================] - 103s 1s/step - loss: 0.4849 - acc: 0.7623 - val_loss: 0.4429 - val_acc: 0.7868\n",
      "Epoch 35/100\n",
      "100/100 [==============================] - 94s 941ms/step - loss: 0.4769 - acc: 0.7754 - val_loss: 0.4374 - val_acc: 0.7868\n",
      "Epoch 36/100\n",
      "100/100 [==============================] - 104s 1s/step - loss: 0.4877 - acc: 0.7677 - val_loss: 0.4417 - val_acc: 0.8008\n",
      "Epoch 37/100\n",
      "100/100 [==============================] - 103s 1s/step - loss: 0.4690 - acc: 0.7841 - val_loss: 0.4374 - val_acc: 0.8096\n",
      "Epoch 38/100\n",
      "100/100 [==============================] - 94s 940ms/step - loss: 0.4552 - acc: 0.7805 - val_loss: 0.4610 - val_acc: 0.7900\n",
      "Epoch 39/100\n",
      "100/100 [==============================] - 104s 1s/step - loss: 0.4722 - acc: 0.7753 - val_loss: 0.4796 - val_acc: 0.7703\n",
      "Epoch 40/100\n",
      "100/100 [==============================] - 100s 1s/step - loss: 0.4577 - acc: 0.7798 - val_loss: 0.4462 - val_acc: 0.7906\n",
      "Epoch 41/100\n",
      "100/100 [==============================] - 93s 928ms/step - loss: 0.4648 - acc: 0.7790 - val_loss: 0.4537 - val_acc: 0.7925\n",
      "Epoch 42/100\n",
      "100/100 [==============================] - 104s 1s/step - loss: 0.4381 - acc: 0.7951 - val_loss: 0.4539 - val_acc: 0.7938\n",
      "Epoch 43/100\n",
      "100/100 [==============================] - 105s 1s/step - loss: 0.4550 - acc: 0.7864 - val_loss: 0.4282 - val_acc: 0.8160\n",
      "Epoch 44/100\n",
      "100/100 [==============================] - 92s 924ms/step - loss: 0.4607 - acc: 0.7784 - val_loss: 0.4662 - val_acc: 0.7690\n",
      "Epoch 45/100\n",
      "100/100 [==============================] - 97s 970ms/step - loss: 0.4567 - acc: 0.7817 - val_loss: 0.4231 - val_acc: 0.8103\n",
      "Epoch 46/100\n",
      "100/100 [==============================] - 111s 1s/step - loss: 0.4411 - acc: 0.7888 - val_loss: 0.4399 - val_acc: 0.7982\n",
      "Epoch 47/100\n",
      "100/100 [==============================] - 102s 1s/step - loss: 0.4498 - acc: 0.7841 - val_loss: 0.4738 - val_acc: 0.7868\n",
      "Epoch 48/100\n",
      "100/100 [==============================] - 92s 923ms/step - loss: 0.4336 - acc: 0.7910 - val_loss: 0.4386 - val_acc: 0.7931\n",
      "Epoch 49/100\n",
      "100/100 [==============================] - 105s 1s/step - loss: 0.4406 - acc: 0.7940 - val_loss: 0.4636 - val_acc: 0.7817\n",
      "Epoch 50/100\n",
      "100/100 [==============================] - 101s 1s/step - loss: 0.4428 - acc: 0.7896 - val_loss: 0.4528 - val_acc: 0.7862\n",
      "Epoch 51/100\n",
      "100/100 [==============================] - 91s 909ms/step - loss: 0.4214 - acc: 0.8074 - val_loss: 0.4299 - val_acc: 0.8020\n",
      "Epoch 52/100\n",
      "100/100 [==============================] - 101s 1s/step - loss: 0.4332 - acc: 0.7948 - val_loss: 0.4414 - val_acc: 0.7900\n",
      "Epoch 53/100\n",
      "100/100 [==============================] - 104s 1s/step - loss: 0.4256 - acc: 0.8024 - val_loss: 0.4389 - val_acc: 0.7989\n",
      "Epoch 54/100\n",
      "100/100 [==============================] - 92s 921ms/step - loss: 0.4217 - acc: 0.7968 - val_loss: 0.4916 - val_acc: 0.7678\n",
      "Epoch 55/100\n",
      "100/100 [==============================] - 97s 970ms/step - loss: 0.4293 - acc: 0.7976 - val_loss: 0.4742 - val_acc: 0.7697\n",
      "Epoch 56/100\n",
      "100/100 [==============================] - 106s 1s/step - loss: 0.4162 - acc: 0.8059 - val_loss: 0.4617 - val_acc: 0.7982\n",
      "Epoch 57/100\n",
      "100/100 [==============================] - 94s 940ms/step - loss: 0.4172 - acc: 0.8078 - val_loss: 0.4222 - val_acc: 0.8109\n",
      "Epoch 58/100\n",
      "100/100 [==============================] - 91s 907ms/step - loss: 0.4131 - acc: 0.8109 - val_loss: 0.4401 - val_acc: 0.7982\n",
      "Epoch 59/100\n",
      "100/100 [==============================] - 100s 1s/step - loss: 0.4107 - acc: 0.8131 - val_loss: 0.4943 - val_acc: 0.7563\n",
      "Epoch 60/100\n",
      "100/100 [==============================] - 105s 1s/step - loss: 0.4186 - acc: 0.8134 - val_loss: 0.4158 - val_acc: 0.8128\n",
      "Epoch 61/100\n"
     ]
    },
    {
     "name": "stdout",
     "output_type": "stream",
     "text": [
      "100/100 [==============================] - 93s 929ms/step - loss: 0.4124 - acc: 0.8160 - val_loss: 0.5153 - val_acc: 0.7487\n",
      "Epoch 62/100\n",
      "100/100 [==============================] - 95s 954ms/step - loss: 0.4144 - acc: 0.8028 - val_loss: 0.4320 - val_acc: 0.8103\n",
      "Epoch 63/100\n",
      "100/100 [==============================] - 105s 1s/step - loss: 0.4200 - acc: 0.7996 - val_loss: 0.4149 - val_acc: 0.8052\n",
      "Epoch 64/100\n",
      "100/100 [==============================] - 95s 951ms/step - loss: 0.4134 - acc: 0.8062 - val_loss: 0.4228 - val_acc: 0.8154\n",
      "Epoch 65/100\n",
      "100/100 [==============================] - 92s 917ms/step - loss: 0.4016 - acc: 0.8178 - val_loss: 0.4151 - val_acc: 0.8154\n",
      "Epoch 66/100\n",
      "100/100 [==============================] - 103s 1s/step - loss: 0.4054 - acc: 0.8172 - val_loss: 0.4305 - val_acc: 0.8058\n",
      "Epoch 67/100\n",
      "100/100 [==============================] - 100s 1s/step - loss: 0.4011 - acc: 0.8185 - val_loss: 0.4541 - val_acc: 0.7970\n",
      "Epoch 68/100\n",
      "100/100 [==============================] - 90s 905ms/step - loss: 0.3978 - acc: 0.8213 - val_loss: 0.4625 - val_acc: 0.7881\n",
      "Epoch 69/100\n",
      "100/100 [==============================] - 99s 986ms/step - loss: 0.4015 - acc: 0.8134 - val_loss: 0.4210 - val_acc: 0.8115\n",
      "Epoch 70/100\n",
      "100/100 [==============================] - 103s 1s/step - loss: 0.3864 - acc: 0.8232 - val_loss: 0.4139 - val_acc: 0.8249\n",
      "Epoch 71/100\n",
      "100/100 [==============================] - 91s 910ms/step - loss: 0.3889 - acc: 0.8257 - val_loss: 0.4112 - val_acc: 0.8242\n",
      "Epoch 72/100\n",
      "100/100 [==============================] - 93s 934ms/step - loss: 0.3949 - acc: 0.8219 - val_loss: 0.4042 - val_acc: 0.8154\n",
      "Epoch 73/100\n",
      "100/100 [==============================] - 105s 1s/step - loss: 0.3859 - acc: 0.8264 - val_loss: 0.4341 - val_acc: 0.7957\n",
      "Epoch 74/100\n",
      "100/100 [==============================] - 98s 978ms/step - loss: 0.3915 - acc: 0.8213 - val_loss: 0.4264 - val_acc: 0.8077\n",
      "Epoch 75/100\n",
      "100/100 [==============================] - 90s 902ms/step - loss: 0.3853 - acc: 0.8254 - val_loss: 0.4377 - val_acc: 0.8071\n",
      "Epoch 76/100\n",
      "100/100 [==============================] - 100s 997ms/step - loss: 0.3811 - acc: 0.8286 - val_loss: 0.4269 - val_acc: 0.8071\n",
      "Epoch 77/100\n",
      "100/100 [==============================] - 103s 1s/step - loss: 0.3800 - acc: 0.8288 - val_loss: 0.4550 - val_acc: 0.8135\n",
      "Epoch 78/100\n",
      "100/100 [==============================] - 91s 911ms/step - loss: 0.3760 - acc: 0.8351 - val_loss: 0.4255 - val_acc: 0.8185\n",
      "Epoch 79/100\n",
      "100/100 [==============================] - 94s 945ms/step - loss: 0.3879 - acc: 0.8233 - val_loss: 0.4362 - val_acc: 0.8115\n",
      "Epoch 80/100\n",
      "100/100 [==============================] - 107s 1s/step - loss: 0.3756 - acc: 0.8307 - val_loss: 0.4430 - val_acc: 0.7944\n",
      "Epoch 81/100\n",
      "100/100 [==============================] - 95s 946ms/step - loss: 0.3748 - acc: 0.8311 - val_loss: 0.3949 - val_acc: 0.8217\n",
      "Epoch 82/100\n",
      "100/100 [==============================] - 91s 908ms/step - loss: 0.3694 - acc: 0.8339 - val_loss: 0.4179 - val_acc: 0.8204\n",
      "Epoch 83/100\n",
      "100/100 [==============================] - 107s 1s/step - loss: 0.3628 - acc: 0.8378 - val_loss: 0.4632 - val_acc: 0.7868\n",
      "Epoch 84/100\n",
      "100/100 [==============================] - 97s 969ms/step - loss: 0.3666 - acc: 0.8335 - val_loss: 0.4315 - val_acc: 0.8096\n",
      "Epoch 85/100\n",
      "100/100 [==============================] - 89s 891ms/step - loss: 0.3592 - acc: 0.8352 - val_loss: 0.4387 - val_acc: 0.8065\n",
      "Epoch 86/100\n",
      "100/100 [==============================] - 98s 976ms/step - loss: 0.3762 - acc: 0.8305 - val_loss: 0.4775 - val_acc: 0.7824\n",
      "Epoch 87/100\n",
      "100/100 [==============================] - 104s 1s/step - loss: 0.3527 - acc: 0.8445 - val_loss: 0.4116 - val_acc: 0.8319\n",
      "Epoch 88/100\n",
      "100/100 [==============================] - 91s 913ms/step - loss: 0.3670 - acc: 0.8336 - val_loss: 0.5027 - val_acc: 0.8039\n",
      "Epoch 89/100\n",
      "100/100 [==============================] - 91s 909ms/step - loss: 0.3515 - acc: 0.8458 - val_loss: 0.4223 - val_acc: 0.8223\n",
      "Epoch 90/100\n",
      "100/100 [==============================] - 102s 1s/step - loss: 0.3483 - acc: 0.8482 - val_loss: 0.5205 - val_acc: 0.7843\n",
      "Epoch 91/100\n",
      "100/100 [==============================] - 101s 1s/step - loss: 0.3556 - acc: 0.8345 - val_loss: 0.5052 - val_acc: 0.7741\n",
      "Epoch 92/100\n",
      "100/100 [==============================] - 90s 899ms/step - loss: 0.3451 - acc: 0.8469 - val_loss: 0.4406 - val_acc: 0.8223\n",
      "Epoch 93/100\n",
      "100/100 [==============================] - 92s 924ms/step - loss: 0.3538 - acc: 0.8428 - val_loss: 0.4073 - val_acc: 0.8306\n",
      "Epoch 94/100\n",
      "100/100 [==============================] - 104s 1s/step - loss: 0.3400 - acc: 0.8445 - val_loss: 0.4410 - val_acc: 0.8255\n",
      "Epoch 95/100\n",
      "100/100 [==============================] - 96s 962ms/step - loss: 0.3377 - acc: 0.8491 - val_loss: 0.4376 - val_acc: 0.8122\n",
      "Epoch 96/100\n",
      "100/100 [==============================] - 90s 895ms/step - loss: 0.3373 - acc: 0.8564 - val_loss: 0.4062 - val_acc: 0.8319\n",
      "Epoch 97/100\n",
      "100/100 [==============================] - 98s 980ms/step - loss: 0.3467 - acc: 0.8439 - val_loss: 0.4592 - val_acc: 0.8084\n",
      "Epoch 98/100\n",
      "100/100 [==============================] - 103s 1s/step - loss: 0.3408 - acc: 0.8510 - val_loss: 0.4114 - val_acc: 0.8382\n",
      "Epoch 99/100\n",
      "100/100 [==============================] - 91s 909ms/step - loss: 0.3399 - acc: 0.8502 - val_loss: 0.3999 - val_acc: 0.8299\n",
      "Epoch 100/100\n",
      "100/100 [==============================] - 92s 918ms/step - loss: 0.3438 - acc: 0.8447 - val_loss: 0.4476 - val_acc: 0.7830\n"
     ]
    }
   ],
   "source": [
    "history= model.fit_generator(\n",
    "train_generator, #data generator which will continuously generate data in batches of 32\n",
    "steps_per_epoch=100,\n",
    "epochs=100, #In each epoch approx 3200 images generated\n",
    "validation_data=validation_generator,\n",
    "validation_steps=50)"
   ]
  },
  {
   "cell_type": "code",
   "execution_count": 16,
   "metadata": {},
   "outputs": [],
   "source": [
    "model.save(\"project_cnn.h5\")"
   ]
  },
  {
   "cell_type": "code",
   "execution_count": 17,
   "metadata": {},
   "outputs": [
    {
     "data": {
      "image/png": "[encoded data removed]",
      "text/plain": [
       "<Figure size 576x360 with 1 Axes>"
      ]
     },
     "metadata": {
      "needs_background": "light"
     },
     "output_type": "display_data"
    }
   ],
   "source": [
    "pd.DataFrame(history.history).plot(figsize=(8,5))\n",
    "plt.grid(True)\n",
    "plt.gca().set_ylim(0,1)\n",
    "plt.show()"
   ]
  },
  {
   "cell_type": "markdown",
   "metadata": {},
   "source": [
    "<b> No evidence of overfitting. </b>"
   ]
  },
  {
   "cell_type": "markdown",
   "metadata": {},
   "source": [
    "We used data augmentation to increase the validation accuracy to nearly 80%. We will now use <b>VGG16 model architecture</b> to further increase the validation accuracy.\n"
   ]
  },
  {
   "cell_type": "code",
   "execution_count": 18,
   "metadata": {},
   "outputs": [
    {
     "name": "stdout",
     "output_type": "stream",
     "text": [
      "Found 2000 images belonging to 2 classes.\n",
      "Found 1000 images belonging to 2 classes.\n"
     ]
    }
   ],
   "source": [
    "from tensorflow.keras.preprocessing.image import ImageDataGenerator\n",
    "train_datagen = ImageDataGenerator(\n",
    "rescale= 1./255,\n",
    "rotation_range = 40,\n",
    "width_shift_range= 0.2,\n",
    "height_shift_range= 0.2,\n",
    "shear_range=0.2,\n",
    "zoom_range=0.2,\n",
    "horizontal_flip=True)\n",
    "\n",
    "test_datagen=ImageDataGenerator(rescale=1./255)\n",
    "\n",
    "train_generator=train_datagen.flow_from_directory(\n",
    "train_dir,\n",
    "target_size=(150,150),\n",
    "batch_size=20,\n",
    "class_mode='binary')\n",
    "\n",
    "validation_generator= test_datagen.flow_from_directory(\n",
    "validation_dir,\n",
    "target_size=(150,150),\n",
    "batch_size=20,\n",
    "class_mode='binary')"
   ]
  },
  {
   "cell_type": "code",
   "execution_count": 21,
   "metadata": {},
   "outputs": [
    {
     "name": "stdout",
     "output_type": "stream",
     "text": [
      "Downloading data from https://github.com/fchollet/deep-learning-models/releases/download/v0.1/vgg16_weights_tf_dim_ordering_tf_kernels_notop.h5\n",
      "58892288/58889256 [==============================] - 2s 0us/step\n"
     ]
    }
   ],
   "source": [
    "from tensorflow.keras.applications import VGG16\n",
    "\n",
    "conv_base= VGG16(weights='imagenet', #any CNN, provide randomized weights and CNN tries to optimize those weights, imagenet for using pre-trained weights\n",
    "                include_top=False, #we need only the conv base. and not the fully connected neural network\n",
    "                input_shape=(150,150,3))\n",
    "\n"
   ]
  },
  {
   "cell_type": "code",
   "execution_count": 22,
   "metadata": {},
   "outputs": [
    {
     "name": "stdout",
     "output_type": "stream",
     "text": [
      "Model: \"vgg16\"\n",
      "_________________________________________________________________\n",
      "Layer (type)                 Output Shape              Param #   \n",
      "=================================================================\n",
      "input_1 (InputLayer)         [(None, 150, 150, 3)]     0         \n",
      "_________________________________________________________________\n",
      "block1_conv1 (Conv2D)        (None, 150, 150, 64)      1792      \n",
      "_________________________________________________________________\n",
      "block1_conv2 (Conv2D)        (None, 150, 150, 64)      36928     \n",
      "_________________________________________________________________\n",
      "block1_pool (MaxPooling2D)   (None, 75, 75, 64)        0         \n",
      "_________________________________________________________________\n",
      "block2_conv1 (Conv2D)        (None, 75, 75, 128)       73856     \n",
      "_________________________________________________________________\n",
      "block2_conv2 (Conv2D)        (None, 75, 75, 128)       147584    \n",
      "_________________________________________________________________\n",
      "block2_pool (MaxPooling2D)   (None, 37, 37, 128)       0         \n",
      "_________________________________________________________________\n",
      "block3_conv1 (Conv2D)        (None, 37, 37, 256)       295168    \n",
      "_________________________________________________________________\n",
      "block3_conv2 (Conv2D)        (None, 37, 37, 256)       590080    \n",
      "_________________________________________________________________\n",
      "block3_conv3 (Conv2D)        (None, 37, 37, 256)       590080    \n",
      "_________________________________________________________________\n",
      "block3_pool (MaxPooling2D)   (None, 18, 18, 256)       0         \n",
      "_________________________________________________________________\n",
      "block4_conv1 (Conv2D)        (None, 18, 18, 512)       1180160   \n",
      "_________________________________________________________________\n",
      "block4_conv2 (Conv2D)        (None, 18, 18, 512)       2359808   \n",
      "_________________________________________________________________\n",
      "block4_conv3 (Conv2D)        (None, 18, 18, 512)       2359808   \n",
      "_________________________________________________________________\n",
      "block4_pool (MaxPooling2D)   (None, 9, 9, 512)         0         \n",
      "_________________________________________________________________\n",
      "block5_conv1 (Conv2D)        (None, 9, 9, 512)         2359808   \n",
      "_________________________________________________________________\n",
      "block5_conv2 (Conv2D)        (None, 9, 9, 512)         2359808   \n",
      "_________________________________________________________________\n",
      "block5_conv3 (Conv2D)        (None, 9, 9, 512)         2359808   \n",
      "_________________________________________________________________\n",
      "block5_pool (MaxPooling2D)   (None, 4, 4, 512)         0         \n",
      "=================================================================\n",
      "Total params: 14,714,688\n",
      "Trainable params: 14,714,688\n",
      "Non-trainable params: 0\n",
      "_________________________________________________________________\n"
     ]
    }
   ],
   "source": [
    "conv_base.summary()"
   ]
  },
  {
   "cell_type": "markdown",
   "metadata": {},
   "source": [
    "Now we need to add fully connected dense layer in fromt of this conv_base layer"
   ]
  },
  {
   "cell_type": "code",
   "execution_count": 24,
   "metadata": {},
   "outputs": [],
   "source": [
    "from tensorflow.keras import models\n",
    "from tensorflow.keras import layers\n"
   ]
  },
  {
   "cell_type": "code",
   "execution_count": 25,
   "metadata": {},
   "outputs": [],
   "source": [
    "model=models.Sequential()\n",
    "model.add(conv_base) #from VGG16\n",
    "model.add(layers.Flatten())\n",
    "model.add(layers.Dense(256,activation='relu'))  #dense layer with 256 neurons\n",
    "model.add(layers.Dense(1,activation='sigmoid')) #output layer with single neuron"
   ]
  },
  {
   "cell_type": "code",
   "execution_count": 26,
   "metadata": {},
   "outputs": [
    {
     "name": "stdout",
     "output_type": "stream",
     "text": [
      "Model: \"sequential_2\"\n",
      "_________________________________________________________________\n",
      "Layer (type)                 Output Shape              Param #   \n",
      "=================================================================\n",
      "vgg16 (Model)                (None, 4, 4, 512)         14714688  \n",
      "_________________________________________________________________\n",
      "flatten_2 (Flatten)          (None, 8192)              0         \n",
      "_________________________________________________________________\n",
      "dense_4 (Dense)              (None, 256)               2097408   \n",
      "_________________________________________________________________\n",
      "dense_5 (Dense)              (None, 1)                 257       \n",
      "=================================================================\n",
      "Total params: 16,812,353\n",
      "Trainable params: 16,812,353\n",
      "Non-trainable params: 0\n",
      "_________________________________________________________________\n"
     ]
    }
   ],
   "source": [
    "model.summary()"
   ]
  },
  {
   "cell_type": "markdown",
   "metadata": {},
   "source": [
    "More number of parameters because we are using already trained parameters of VGG16 which are optimized. If we dont want to use the already trained parameters, use the following command:\n",
    "   #conv_base.trainable=False > It freezes the conv_layer, thus reducing the number of parameters and reducing the execution time\n",
    "   "
   ]
  },
  {
   "cell_type": "code",
   "execution_count": 30,
   "metadata": {},
   "outputs": [],
   "source": [
    "from tensorflow.keras import optimizers\n",
    "model.compile(loss='binary_crossentropy',\n",
    "             optimizer= optimizers.RMSprop(lr=2e-5),\n",
    "              metrics=['acc'])"
   ]
  },
  {
   "cell_type": "code",
   "execution_count": 32,
   "metadata": {},
   "outputs": [],
   "source": [
    " #training can take hours so better to use callback and save model at each epoch. Parameter save_best=True, saves the model with the best validation accuracy.\n",
    "    \n",
    "    checkpoint_cb= keras.callbacks.ModelCheckpoint(\"CNN_Project_Model-{epoch:02d}.h5\")"
   ]
  },
  {
   "cell_type": "code",
   "execution_count": 34,
   "metadata": {},
   "outputs": [
    {
     "name": "stdout",
     "output_type": "stream",
     "text": [
      "Epoch 1/30\n",
      "100/100 [==============================] - 895s 9s/step - loss: 0.4869 - acc: 0.7590 - val_loss: 0.2231 - val_acc: 0.9100\n",
      "Epoch 2/30\n",
      "100/100 [==============================] - 779s 8s/step - loss: 0.2820 - acc: 0.8850 - val_loss: 0.1252 - val_acc: 0.9460\n",
      "Epoch 3/30\n",
      "100/100 [==============================] - 823s 8s/step - loss: 0.2239 - acc: 0.9045 - val_loss: 0.3699 - val_acc: 0.8740\n",
      "Epoch 4/30\n",
      "100/100 [==============================] - 837s 8s/step - loss: 0.1922 - acc: 0.9225 - val_loss: 0.1339 - val_acc: 0.9490\n",
      "Epoch 5/30\n",
      "100/100 [==============================] - 834s 8s/step - loss: 0.1592 - acc: 0.9345 - val_loss: 0.2074 - val_acc: 0.9100\n",
      "Epoch 6/30\n",
      "100/100 [==============================] - 815s 8s/step - loss: 0.1278 - acc: 0.9485 - val_loss: 0.1211 - val_acc: 0.9530\n",
      "Epoch 7/30\n",
      "100/100 [==============================] - 801s 8s/step - loss: 0.1171 - acc: 0.9490 - val_loss: 0.0872 - val_acc: 0.9630\n",
      "Epoch 8/30\n",
      "100/100 [==============================] - 771s 8s/step - loss: 0.1101 - acc: 0.9525 - val_loss: 0.1335 - val_acc: 0.9530\n",
      "Epoch 9/30\n",
      "100/100 [==============================] - 766s 8s/step - loss: 0.0957 - acc: 0.9625 - val_loss: 0.0988 - val_acc: 0.9630\n",
      "Epoch 10/30\n",
      "100/100 [==============================] - 754s 8s/step - loss: 0.0850 - acc: 0.9690 - val_loss: 0.1453 - val_acc: 0.9590\n",
      "Epoch 11/30\n",
      "100/100 [==============================] - 769s 8s/step - loss: 0.0813 - acc: 0.9700 - val_loss: 0.0906 - val_acc: 0.9680\n",
      "Epoch 12/30\n",
      "100/100 [==============================] - 952s 10s/step - loss: 0.0788 - acc: 0.9710 - val_loss: 0.0882 - val_acc: 0.9720\n",
      "Epoch 13/30\n",
      "100/100 [==============================] - 1317s 13s/step - loss: 0.0642 - acc: 0.9820 - val_loss: 0.1059 - val_acc: 0.9660\n",
      "Epoch 14/30\n",
      "100/100 [==============================] - 749s 7s/step - loss: 0.0671 - acc: 0.9750 - val_loss: 0.1929 - val_acc: 0.9540\n",
      "Epoch 15/30\n",
      "100/100 [==============================] - 792s 8s/step - loss: 0.0624 - acc: 0.9775 - val_loss: 0.0888 - val_acc: 0.9710\n",
      "Epoch 16/30\n",
      "100/100 [==============================] - 773s 8s/step - loss: 0.0593 - acc: 0.9785 - val_loss: 0.1033 - val_acc: 0.9690\n",
      "Epoch 17/30\n",
      "100/100 [==============================] - 780s 8s/step - loss: 0.0590 - acc: 0.9810 - val_loss: 0.1135 - val_acc: 0.9670\n",
      "Epoch 18/30\n",
      "100/100 [==============================] - 780s 8s/step - loss: 0.0608 - acc: 0.9790 - val_loss: 0.1086 - val_acc: 0.9690\n",
      "Epoch 19/30\n",
      "100/100 [==============================] - 781s 8s/step - loss: 0.0580 - acc: 0.9805 - val_loss: 0.0906 - val_acc: 0.9710\n",
      "Epoch 20/30\n",
      "100/100 [==============================] - 770s 8s/step - loss: 0.0370 - acc: 0.9860 - val_loss: 0.1532 - val_acc: 0.9630\n",
      "Epoch 21/30\n",
      "100/100 [==============================] - 776s 8s/step - loss: 0.0518 - acc: 0.9810 - val_loss: 0.1440 - val_acc: 0.9640\n",
      "Epoch 22/30\n",
      "100/100 [==============================] - 772s 8s/step - loss: 0.0466 - acc: 0.9815 - val_loss: 0.1411 - val_acc: 0.9580\n",
      "Epoch 23/30\n",
      "100/100 [==============================] - 767s 8s/step - loss: 0.0395 - acc: 0.9865 - val_loss: 0.1100 - val_acc: 0.9680\n",
      "Epoch 24/30\n",
      "100/100 [==============================] - 779s 8s/step - loss: 0.0429 - acc: 0.9865 - val_loss: 0.2314 - val_acc: 0.9520\n",
      "Epoch 25/30\n",
      "100/100 [==============================] - 784s 8s/step - loss: 0.0440 - acc: 0.9840 - val_loss: 0.0977 - val_acc: 0.9740\n",
      "Epoch 26/30\n",
      "100/100 [==============================] - 858s 9s/step - loss: 0.0379 - acc: 0.9855 - val_loss: 0.1338 - val_acc: 0.9710\n",
      "Epoch 27/30\n",
      "100/100 [==============================] - 1123s 11s/step - loss: 0.0255 - acc: 0.9910 - val_loss: 0.4031 - val_acc: 0.9400\n",
      "Epoch 28/30\n",
      "100/100 [==============================] - 1125s 11s/step - loss: 0.0423 - acc: 0.9845 - val_loss: 0.1337 - val_acc: 0.9650\n",
      "Epoch 29/30\n",
      "100/100 [==============================] - 1019s 10s/step - loss: 0.0398 - acc: 0.9865 - val_loss: 0.0965 - val_acc: 0.9740\n",
      "Epoch 30/30\n",
      "100/100 [==============================] - 959s 10s/step - loss: 0.0459 - acc: 0.9825 - val_loss: 0.1193 - val_acc: 0.9610\n"
     ]
    }
   ],
   "source": [
    "history=model.fit_generator(\n",
    "train_generator,\n",
    "steps_per_epoch=100,\n",
    "epochs=30,\n",
    "validation_data=validation_generator,\n",
    "validation_steps=50,\n",
    "callbacks=[checkpoint_cb])"
   ]
  },
  {
   "cell_type": "code",
   "execution_count": 35,
   "metadata": {},
   "outputs": [
    {
     "data": {
      "image/png": "[encoded data removed]",
      "text/plain": [
       "<Figure size 576x360 with 1 Axes>"
      ]
     },
     "metadata": {
      "needs_background": "light"
     },
     "output_type": "display_data"
    }
   ],
   "source": [
    "pd.DataFrame(history.history).plot(figsize=(8,5))\n",
    "plt.grid(True)\n",
    "plt.gca().set_ylim(0,1)\n",
    "plt.show()"
   ]
  },
  {
   "cell_type": "code",
   "execution_count": 36,
   "metadata": {},
   "outputs": [],
   "source": [
    "hist_df=pd.DataFrame(history.history)"
   ]
  },
  {
   "cell_type": "code",
   "execution_count": 37,
   "metadata": {},
   "outputs": [],
   "source": [
    "hist_csv_file= 'history.csv'\n",
    "with open(hist_csv_file, mode='w') as f:\n",
    "    hist_df.to_csv(f)"
   ]
  },
  {
   "cell_type": "code",
   "execution_count": 38,
   "metadata": {},
   "outputs": [
    {
     "name": "stdout",
     "output_type": "stream",
     "text": [
      "Found 1000 images belonging to 2 classes.\n"
     ]
    }
   ],
   "source": [
    "#using test data for the model\n",
    "test_generator = test_datagen.flow_from_directory(\n",
    "test_dir,\n",
    "target_size=(150,150),\n",
    "batch_size=20,\n",
    "class_mode='binary')"
   ]
  },
  {
   "cell_type": "code",
   "execution_count": 39,
   "metadata": {},
   "outputs": [
    {
     "data": {
      "text/plain": [
       "[0.20777605174627298, 0.954]"
      ]
     },
     "execution_count": 39,
     "metadata": {},
     "output_type": "execute_result"
    }
   ],
   "source": [
    "model.evaluate_generator(test_generator, steps=50)"
   ]
  },
  {
   "cell_type": "markdown",
   "metadata": {},
   "source": [
    "First is the loss value and second is the accuracy value. Accuracy=95.4%"
   ]
  },
  {
   "cell_type": "code",
   "execution_count": null,
   "metadata": {},
   "outputs": [],
   "source": []
  }
 ],
 "metadata": {
  "kernelspec": {
   "display_name": "Python 3",
   "language": "python",
   "name": "python3"
  },
  "language_info": {
   "codemirror_mode": {
    "name": "ipython",
    "version": 3
   },
   "file_extension": ".py",
   "mimetype": "text/x-python",
   "name": "python",
   "nbconvert_exporter": "python",
   "pygments_lexer": "ipython3",
   "version": "3.7.6"
  }
 },
 "nbformat": 4,
 "nbformat_minor": 4
}
